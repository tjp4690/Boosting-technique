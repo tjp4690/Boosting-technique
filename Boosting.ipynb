{
  "nbformat": 4,
  "nbformat_minor": 0,
  "metadata": {
    "colab": {
      "provenance": []
    },
    "kernelspec": {
      "name": "python3",
      "display_name": "Python 3"
    },
    "language_info": {
      "name": "python"
    }
  },
  "cells": [
    {
      "cell_type": "markdown",
      "source": [
        "# Question 1: What is Boosting in Machine Learning? Explain how it improves weak learners.\n",
        "\n",
        "Boosting is an ensemble learning technique in Machine Learning that combines multiple weak learners (models that perform slightly better than random guessing, e.g., shallow decision trees) to form a strong learner with high accuracy.\n",
        "\n",
        "The key idea behind boosting is to train weak models sequentially, where each new model focuses on the errors (misclassified samples) of the previous models. By doing so, boosting gives more weight to difficult-to-predict observations and gradually improves performance.\n",
        "\n",
        "How Boosting Improves Weak Learners:\n",
        "\n",
        "Sequential Training\n",
        "\n",
        "Unlike bagging (parallel training), boosting trains models one after another.\n",
        "\n",
        "Each new weak learner is built to fix the mistakes of the previous one.\n",
        "\n",
        "Weight Adjustment\n",
        "\n",
        "Initially, all data points are given equal weight.\n",
        "\n",
        "After each round, weights of misclassified samples are increased so the next learner pays more attention to them.\n",
        "\n",
        "Error Minimization\n",
        "\n",
        "Each new learner tries to minimize the overall error by correcting previous mistakes.\n",
        "\n",
        "This reduces bias and increases accuracy.\n",
        "\n",
        "Final Strong Model\n",
        "\n",
        "The predictions of all weak learners are combined using a weighted majority vote (for classification) or weighted average (for regression).\n",
        "\n",
        "The ensemble performs significantly better than a single weak learner.\n",
        "\n",
        "Example:\n",
        "\n",
        "Suppose we use decision stumps (1-level decision trees) as weak learners. Individually, they are very simple and inaccurate. But when combined through boosting (like in AdaBoost or Gradient Boosting), they form a strong classifier capable of solving complex tasks."
      ],
      "metadata": {
        "id": "eworRR4FnwwB"
      }
    },
    {
      "cell_type": "markdown",
      "source": [
        "# Question 2: What is the difference between AdaBoost and Gradient Boosting in terms of how models are trained?\n",
        "\n",
        "Both AdaBoost and Gradient Boosting are boosting algorithms, but they differ in how they train models and handle errors:\n",
        "\n",
        "1. AdaBoost (Adaptive Boosting):\n",
        "\n",
        "Error Handling: Focuses on re-weighting data points.\n",
        "\n",
        "Misclassified samples are given higher weights, so the next weak learner pays more attention to them.\n",
        "\n",
        "Model Training: Each weak learner is trained on a modified version of the dataset with updated weights.\n",
        "\n",
        "Final Prediction: Combines learners using a weighted majority vote (classification) or weighted sum (regression).\n",
        "\n",
        "Intuition: “Pay more attention to hard-to-classify points.”\n",
        "\n",
        "2. Gradient Boosting:\n",
        "\n",
        "Error Handling: Uses gradient descent on the loss function.\n",
        "\n",
        "Each new model is trained to predict the residual errors (pseudo-residuals) of the previous model.\n",
        "\n",
        "Model Training: Instead of adjusting weights, it fits the new learner to the gradient of the loss (difference between predicted and actual).\n",
        "\n",
        "Final Prediction: Adds predictions of weak learners step by step to minimize overall loss.\n",
        "\n",
        "Intuition: “Fit the next model to correct the errors by minimizing the loss function.”"
      ],
      "metadata": {
        "id": "h9vsA8q-nwpL"
      }
    },
    {
      "cell_type": "markdown",
      "source": [
        "# Question 3: How does regularization help in XGBoost?\n",
        "\n",
        "Regularization in XGBoost helps prevent overfitting and improves the generalization ability of the model. Unlike traditional Gradient Boosting, XGBoost includes explicit regularization terms in its objective function.\n"
      ],
      "metadata": {
        "id": "4eMsUjBznwmC"
      }
    },
    {
      "cell_type": "markdown",
      "source": [
        "# Question 4: Why is CatBoost considered efficient for handling categorical data?\n",
        "\n",
        "CatBoost is efficient for categorical data because it natively encodes categories using target-based statistics in an ordered way that prevents overfitting and eliminates the need for one-hot encoding, saving both time and memory."
      ],
      "metadata": {
        "id": "sBLuYTSenwix"
      }
    },
    {
      "cell_type": "markdown",
      "source": [
        "# Question 5: What are some real-world applications where boosting techniques are preferred over bagging methods?\n",
        "\n",
        "Some Real-World Applications:\n",
        "\n",
        "- Fraud Detection (Banking & Finance):\n",
        "\n",
        "Boosting models (XGBoost, LightGBM) are widely used to detect fraudulent transactions, as they can focus on rare, difficult-to-detect fraud patterns better than bagging.\n",
        "\n",
        "- Customer Churn Prediction (Telecom, SaaS):\n",
        "\n",
        "Boosting handles imbalanced data and captures subtle signals that indicate customer churn, improving retention strategies.\n",
        "\n",
        "- Credit Risk Scoring (Lending & Insurance):\n",
        "\n",
        "Gradient Boosting is preferred for risk prediction because it reduces bias and captures complex relationships between features like income, spending, and past credit history.\n",
        "\n",
        "- Search Engine Ranking (e.g., Google, Bing, Yandex):\n",
        "\n",
        "Boosting models (like LambdaMART, based on Gradient Boosting) are used to rank web pages, since they handle complex feature interactions better than bagging.\n",
        "\n",
        "- Medical Diagnosis & Healthcare Analytics:\n",
        "\n",
        "Boosting is applied in disease prediction models (e.g., cancer detection, diabetes risk) because it improves accuracy on small but critical misclassified cases.\n",
        "\n",
        "- Recommendation Systems (E-commerce & Streaming):\n",
        "\n",
        "Boosting algorithms help recommend products/movies by handling non-linear patterns in user behavior data.\n",
        "\n",
        "- Natural Language Processing (NLP):\n",
        "\n",
        "Used for sentiment analysis, spam detection, and text classification tasks where boosting achieves higher accuracy by correcting difficult-to-classify texts\n"
      ],
      "metadata": {
        "id": "gp7y0M13nwfo"
      }
    },
    {
      "cell_type": "markdown",
      "source": [
        "● Use sklearn.datasets.load_breast_cancer() for classification tasks.\n"
      ],
      "metadata": {
        "id": "msDJWQQxnwb6"
      }
    },
    {
      "cell_type": "code",
      "source": [
        "from sklearn.datasets import load_breast_cancer\n",
        "import pandas as pd\n",
        "\n",
        "# Load dataset\n",
        "data = load_breast_cancer()\n",
        "\n",
        "# Features and target\n",
        "X = pd.DataFrame(data.data, columns=data.feature_names)\n",
        "y = pd.Series(data.target)\n",
        "\n",
        "print(\"Feature shape:\", X.shape)\n",
        "print(\"Target shape:\", y.shape)\n",
        "print(\"Target classes:\", data.target_names)\n",
        "\n",
        "# Display first 5 rows\n",
        "print(X.head())\n",
        "print(y.head())\n"
      ],
      "metadata": {
        "colab": {
          "base_uri": "https://localhost:8080/"
        },
        "id": "1rKcjaYfqQn-",
        "outputId": "c75fe590-0ccc-4185-fe61-11f2cc4c5103"
      },
      "execution_count": 1,
      "outputs": [
        {
          "output_type": "stream",
          "name": "stdout",
          "text": [
            "Feature shape: (569, 30)\n",
            "Target shape: (569,)\n",
            "Target classes: ['malignant' 'benign']\n",
            "   mean radius  mean texture  mean perimeter  mean area  mean smoothness  \\\n",
            "0        17.99         10.38          122.80     1001.0          0.11840   \n",
            "1        20.57         17.77          132.90     1326.0          0.08474   \n",
            "2        19.69         21.25          130.00     1203.0          0.10960   \n",
            "3        11.42         20.38           77.58      386.1          0.14250   \n",
            "4        20.29         14.34          135.10     1297.0          0.10030   \n",
            "\n",
            "   mean compactness  mean concavity  mean concave points  mean symmetry  \\\n",
            "0           0.27760          0.3001              0.14710         0.2419   \n",
            "1           0.07864          0.0869              0.07017         0.1812   \n",
            "2           0.15990          0.1974              0.12790         0.2069   \n",
            "3           0.28390          0.2414              0.10520         0.2597   \n",
            "4           0.13280          0.1980              0.10430         0.1809   \n",
            "\n",
            "   mean fractal dimension  ...  worst radius  worst texture  worst perimeter  \\\n",
            "0                 0.07871  ...         25.38          17.33           184.60   \n",
            "1                 0.05667  ...         24.99          23.41           158.80   \n",
            "2                 0.05999  ...         23.57          25.53           152.50   \n",
            "3                 0.09744  ...         14.91          26.50            98.87   \n",
            "4                 0.05883  ...         22.54          16.67           152.20   \n",
            "\n",
            "   worst area  worst smoothness  worst compactness  worst concavity  \\\n",
            "0      2019.0            0.1622             0.6656           0.7119   \n",
            "1      1956.0            0.1238             0.1866           0.2416   \n",
            "2      1709.0            0.1444             0.4245           0.4504   \n",
            "3       567.7            0.2098             0.8663           0.6869   \n",
            "4      1575.0            0.1374             0.2050           0.4000   \n",
            "\n",
            "   worst concave points  worst symmetry  worst fractal dimension  \n",
            "0                0.2654          0.4601                  0.11890  \n",
            "1                0.1860          0.2750                  0.08902  \n",
            "2                0.2430          0.3613                  0.08758  \n",
            "3                0.2575          0.6638                  0.17300  \n",
            "4                0.1625          0.2364                  0.07678  \n",
            "\n",
            "[5 rows x 30 columns]\n",
            "0    0\n",
            "1    0\n",
            "2    0\n",
            "3    0\n",
            "4    0\n",
            "dtype: int64\n"
          ]
        }
      ]
    },
    {
      "cell_type": "markdown",
      "source": [
        "**.**sklearn.datasets.fetch_california_housing()"
      ],
      "metadata": {
        "id": "ZkPTCxQBqQgz"
      }
    },
    {
      "cell_type": "code",
      "source": [
        "from sklearn.datasets import fetch_california_housing\n",
        "import pandas as pd\n",
        "\n",
        "# Load dataset\n",
        "data = fetch_california_housing()\n",
        "\n",
        "# Features and target\n",
        "X = pd.DataFrame(data.data, columns=data.feature_names)\n",
        "y = pd.Series(data.target)\n",
        "\n",
        "print(\"Feature shape:\", X.shape)\n",
        "print(\"Target shape:\", y.shape)\n",
        "\n",
        "# Display first 5 rows\n",
        "print(X.head())\n",
        "print(y.head())\n"
      ],
      "metadata": {
        "colab": {
          "base_uri": "https://localhost:8080/"
        },
        "id": "6rTNgaelqfqG",
        "outputId": "6f7c188f-85d3-499a-ce4a-55a1ca5cb969"
      },
      "execution_count": 2,
      "outputs": [
        {
          "output_type": "stream",
          "name": "stdout",
          "text": [
            "Feature shape: (20640, 8)\n",
            "Target shape: (20640,)\n",
            "   MedInc  HouseAge  AveRooms  AveBedrms  Population  AveOccup  Latitude  \\\n",
            "0  8.3252      41.0  6.984127   1.023810       322.0  2.555556     37.88   \n",
            "1  8.3014      21.0  6.238137   0.971880      2401.0  2.109842     37.86   \n",
            "2  7.2574      52.0  8.288136   1.073446       496.0  2.802260     37.85   \n",
            "3  5.6431      52.0  5.817352   1.073059       558.0  2.547945     37.85   \n",
            "4  3.8462      52.0  6.281853   1.081081       565.0  2.181467     37.85   \n",
            "\n",
            "   Longitude  \n",
            "0    -122.23  \n",
            "1    -122.22  \n",
            "2    -122.24  \n",
            "3    -122.25  \n",
            "4    -122.25  \n",
            "0    4.526\n",
            "1    3.585\n",
            "2    3.521\n",
            "3    3.413\n",
            "4    3.422\n",
            "dtype: float64\n"
          ]
        }
      ]
    },
    {
      "cell_type": "markdown",
      "source": [
        "# Question 6: Write a Python program to:\n",
        "# ● Train an AdaBoost Classifier on the Breast Cancer dataset\n",
        "# ● Print the model accuracy"
      ],
      "metadata": {
        "id": "0BZC-5MDnwXU"
      }
    },
    {
      "cell_type": "code",
      "execution_count": 3,
      "metadata": {
        "colab": {
          "base_uri": "https://localhost:8080/"
        },
        "id": "7BXmzJcOnfg_",
        "outputId": "2f3b0e6a-43ac-4b96-85ec-c2cd97a853c7"
      },
      "outputs": [
        {
          "output_type": "stream",
          "name": "stdout",
          "text": [
            "Model Accuracy: 0.9737\n"
          ]
        }
      ],
      "source": [
        "from sklearn.datasets import load_breast_cancer\n",
        "from sklearn.model_selection import train_test_split\n",
        "from sklearn.ensemble import AdaBoostClassifier\n",
        "from sklearn.metrics import accuracy_score\n",
        "\n",
        "# 1. Load dataset\n",
        "data = load_breast_cancer()\n",
        "X, y = data.data, data.target\n",
        "\n",
        "# 2. Train-test split\n",
        "X_train, X_test, y_train, y_test = train_test_split(\n",
        "    X, y, test_size=0.2, random_state=42\n",
        ")\n",
        "\n",
        "# 3. Initialize AdaBoost Classifier\n",
        "model = AdaBoostClassifier(n_estimators=100, random_state=42)\n",
        "\n",
        "# 4. Train the model\n",
        "model.fit(X_train, y_train)\n",
        "\n",
        "# 5. Make predictions\n",
        "y_pred = model.predict(X_test)\n",
        "\n",
        "# 6. Evaluate accuracy\n",
        "accuracy = accuracy_score(y_test, y_pred)\n",
        "print(f\"Model Accuracy: {accuracy:.4f}\")\n"
      ]
    },
    {
      "cell_type": "markdown",
      "source": [
        "# Question 7: Write a Python program to:\n",
        "# ● Train a Gradient Boosting Regressor on the California Housing dataset\n",
        "# ● Evaluate performance using R-squared score\n",
        "\n"
      ],
      "metadata": {
        "id": "fmyIAldDrD_2"
      }
    },
    {
      "cell_type": "code",
      "source": [
        "from sklearn.datasets import fetch_california_housing\n",
        "from sklearn.model_selection import train_test_split\n",
        "from sklearn.ensemble import GradientBoostingRegressor\n",
        "from sklearn.metrics import r2_score\n",
        "\n",
        "# 1. Load dataset\n",
        "data = fetch_california_housing()\n",
        "X, y = data.data, data.target\n",
        "\n",
        "# 2. Train-test split\n",
        "X_train, X_test, y_train, y_test = train_test_split(\n",
        "    X, y, test_size=0.2, random_state=42\n",
        ")\n",
        "\n",
        "# 3. Initialize Gradient Boosting Regressor\n",
        "model = GradientBoostingRegressor(n_estimators=200, learning_rate=0.1, max_depth=3, random_state=42)\n",
        "\n",
        "# 4. Train the model\n",
        "model.fit(X_train, y_train)\n",
        "\n",
        "# 5. Make predictions\n",
        "y_pred = model.predict(X_test)\n",
        "\n",
        "# 6. Evaluate performance (R² score)\n",
        "r2 = r2_score(y_test, y_pred)\n",
        "print(f\"R-squared Score: {r2:.4f}\")\n"
      ],
      "metadata": {
        "colab": {
          "base_uri": "https://localhost:8080/"
        },
        "id": "bSXpUlv4rA84",
        "outputId": "ab53b634-6761-4d94-a5bf-639879bbbd64"
      },
      "execution_count": 4,
      "outputs": [
        {
          "output_type": "stream",
          "name": "stdout",
          "text": [
            "R-squared Score: 0.8004\n"
          ]
        }
      ]
    },
    {
      "cell_type": "markdown",
      "source": [
        "# Question 8: Write a Python program to:\n",
        "# ● Train an XGBoost Classifier on the Breast Cancer dataset\n",
        "# ● Tune the learning rate using GridSearchCV\n",
        "# ● Print the best parameters and accuracy\n",
        "\n"
      ],
      "metadata": {
        "id": "m8HdZ1zBrX_5"
      }
    },
    {
      "cell_type": "code",
      "source": [
        "from sklearn.datasets import load_breast_cancer\n",
        "from sklearn.model_selection import train_test_split, GridSearchCV\n",
        "from sklearn.metrics import accuracy_score\n",
        "from xgboost import XGBClassifier\n",
        "\n",
        "# 1. Load dataset\n",
        "data = load_breast_cancer()\n",
        "X, y = data.data, data.target\n",
        "\n",
        "# 2. Train-test split\n",
        "X_train, X_test, y_train, y_test = train_test_split(\n",
        "    X, y, test_size=0.2, random_state=42\n",
        ")\n",
        "\n",
        "# 3. Initialize XGBoost Classifier\n",
        "xgb_model = XGBClassifier(use_label_encoder=False, eval_metric='logloss', random_state=42)\n",
        "\n",
        "# 4. Define parameter grid (tuning learning_rate)\n",
        "param_grid = {\n",
        "    'learning_rate': [0.01, 0.05, 0.1, 0.2, 0.3]\n",
        "}\n",
        "\n",
        "# 5. GridSearchCV for hyperparameter tuning\n",
        "grid_search = GridSearchCV(\n",
        "    estimator=xgb_model,\n",
        "    param_grid=param_grid,\n",
        "    cv=5,\n",
        "    scoring='accuracy',\n",
        "    n_jobs=-1\n",
        ")\n",
        "\n",
        "# 6. Train with GridSearch\n",
        "grid_search.fit(X_train, y_train)\n",
        "\n",
        "# 7. Get best model\n",
        "best_model = grid_search.best_estimator_\n",
        "\n",
        "# 8. Predictions\n",
        "y_pred = best_model.predict(X_test)\n",
        "\n",
        "# 9. Accuracy\n",
        "accuracy = accuracy_score(y_test, y_pred)\n",
        "\n",
        "print(\"Best Parameters:\", grid_search.best_params_)\n",
        "print(f\"Best Accuracy: {accuracy:.4f}\")\n"
      ],
      "metadata": {
        "colab": {
          "base_uri": "https://localhost:8080/"
        },
        "id": "U03E71dprSqN",
        "outputId": "dc2b8dd2-8f9e-410d-d9fb-a5d9302c1794"
      },
      "execution_count": 5,
      "outputs": [
        {
          "output_type": "stream",
          "name": "stdout",
          "text": [
            "Best Parameters: {'learning_rate': 0.2}\n",
            "Best Accuracy: 0.9561\n"
          ]
        },
        {
          "output_type": "stream",
          "name": "stderr",
          "text": [
            "/usr/local/lib/python3.11/dist-packages/xgboost/training.py:183: UserWarning: [14:14:46] WARNING: /workspace/src/learner.cc:738: \n",
            "Parameters: { \"use_label_encoder\" } are not used.\n",
            "\n",
            "  bst.update(dtrain, iteration=i, fobj=obj)\n"
          ]
        }
      ]
    },
    {
      "cell_type": "markdown",
      "source": [
        "# Question 9: Write a Python program to:\n",
        "# ● Train a CatBoost Classifier\n",
        "# ● Plot the confusion matrix using seaborn\n"
      ],
      "metadata": {
        "id": "PTGip5SKrxkX"
      }
    },
    {
      "cell_type": "code",
      "source": [
        "from sklearn.datasets import load_breast_cancer\n",
        "from sklearn.model_selection import train_test_split\n",
        "from sklearn.metrics import confusion_matrix, accuracy_score\n",
        "import seaborn as sns\n",
        "import matplotlib.pyplot as plt\n",
        "\n",
        "# 1. Load dataset\n",
        "data = load_breast_cancer()\n",
        "X, y = data.data, data.target\n",
        "\n",
        "# 2. Train-test split\n",
        "X_train, X_test, y_train, y_test = train_test_split(\n",
        "    X, y, test_size=0.2, random_state=42\n",
        ")\n",
        "\n",
        "# 3. Initialize CatBoost Classifier (silent mode)\n",
        "model = CatBoostClassifier(iterations=200, learning_rate=0.1, depth=6, verbose=0, random_state=42)\n",
        "\n",
        "# 4. Train the model\n",
        "model.fit(X_train, y_train)\n",
        "\n",
        "# 5. Predictions\n",
        "y_pred = model.predict(X_test)\n",
        "\n",
        "# 6. Confusion Matrix\n",
        "cm = confusion_matrix(y_test, y_pred)\n",
        "\n",
        "# 7. Accuracy\n",
        "accuracy = accuracy_score(y_test, y_pred)\n",
        "print(f\"Model Accuracy: {accuracy:.4f}\")\n",
        "\n",
        "# 8. Plot confusion matrix\n",
        "plt.figure(figsize=(6,4))\n",
        "sns.heatmap(cm, annot=True, fmt=\"d\", cmap=\"Blues\", xticklabels=data.target_names, yticklabels=data.target_names)\n",
        "plt.xlabel(\"Predicted\")\n",
        "plt.ylabel(\"Actual\")\n",
        "plt.title(\"CatBoost Classifier - Confusion Matrix\")\n",
        "plt.show()\n"
      ],
      "metadata": {
        "colab": {
          "base_uri": "https://localhost:8080/",
          "height": 428
        },
        "id": "NchO948FrpRx",
        "outputId": "2fdf7f64-2eac-4f9c-c787-6eab8c2d7c38"
      },
      "execution_count": 13,
      "outputs": [
        {
          "output_type": "stream",
          "name": "stdout",
          "text": [
            "Model Accuracy: 0.9649\n"
          ]
        },
        {
          "output_type": "display_data",
          "data": {
            "text/plain": [
              "<Figure size 600x400 with 2 Axes>"
            ],
            "image/png": "[encoded data removed]"
          },
          "metadata": {}
        }
      ]
    },
    {
      "cell_type": "markdown",
      "source": [
        "# Question 10: You're working for a FinTech company trying to predict loan default using customer demographics and transaction behaviorThe dataset is imbalanced, contains missing values, and has both numeric andcategorical features.\n",
        "# Describe your step-by-step data science pipeline using boosting techniques:\n",
        "# ● Data preprocessing & handling missing/categorical values\n",
        "# ● Choice between AdaBoost, XGBoost, or CatBoost\n",
        "# ● Hyperparameter tuning strategy\n",
        "# ● Evaluation metrics you'd choose and why\n",
        "# ● How the business would benefit from your model\n",
        "\n",
        "\n",
        ">>> ✅ Step-by-Step Data Science Pipeline\n",
        "1. Data Preprocessing\n",
        "\n",
        "Handle Missing Values:\n",
        "\n",
        "For numerical features: use median/mean imputation or advanced methods like IterativeImputer.\n",
        "\n",
        "For categorical features: use a placeholder (e.g., \"Unknown\") or mode imputation.\n",
        "\n",
        "Some boosting models (e.g., CatBoost, XGBoost) natively handle missing values.\n",
        "\n",
        "Feature Encoding (Categorical):\n",
        "\n",
        "If using CatBoost → no need for manual encoding (it handles categorical data directly using target statistics).\n",
        "\n",
        "If using XGBoost/AdaBoost → apply One-Hot Encoding (for low-cardinality) or Target Encoding/Ordinal Encoding (for high-cardinality).\n",
        "\n",
        "Feature Scaling:\n",
        "\n",
        "Not mandatory for tree-based models (boosting is scale-invariant), so we can skip.\n",
        "\n",
        "Class Imbalance Handling:\n",
        "\n",
        "Apply techniques like SMOTE/ADASYN (oversampling), or adjust class weights in boosting models.\n",
        "\n",
        "In XGBoost → scale_pos_weight can handle imbalance.\n",
        "\n",
        "In CatBoost → class_weights parameter can be tuned.\n",
        "\n",
        "2. Choice of Algorithm\n",
        "\n",
        "AdaBoost: Works well with clean datasets but struggles with missing values and categorical features.\n",
        "\n",
        "XGBoost: Powerful, efficient, handles missing values, great for numerical-heavy datasets.\n",
        "\n",
        "CatBoost (Best Choice Here):\n",
        "\n",
        "Handles categorical features natively (no manual encoding).\n",
        "\n",
        "Deals well with missing values.\n",
        "\n",
        "Robust against overfitting with ordered boosting.\n",
        "👉 I’d choose CatBoost because the dataset is imbalanced + mixed-type (categorical + numerical) + missing values.\n",
        "\n",
        "3. Hyperparameter Tuning Strategy\n",
        "\n",
        "Use GridSearchCV / RandomizedSearchCV or better → Bayesian Optimization (Optuna, Hyperopt) for efficiency.\n",
        "\n",
        "Key hyperparameters to tune:\n",
        "\n",
        "learning_rate (controls step size, lower = stable)\n",
        "\n",
        "depth (controls tree complexity)\n",
        "\n",
        "iterations (number of trees)\n",
        "\n",
        "l2_leaf_reg (regularization)\n",
        "\n",
        "class_weights (to balance imbalance)\n",
        "\n",
        "Strategy:\n",
        "\n",
        "Start with a wide random search for rough tuning.\n",
        "\n",
        "Narrow down and perform grid search around the best region.\n",
        "\n",
        "Use early stopping to avoid overfitting.\n",
        "\n",
        "4. Evaluation Metrics\n",
        "\n",
        "Since the dataset is imbalanced (loan default detection):\n",
        "\n",
        "Primary metrics:\n",
        "\n",
        "AUC-ROC (Area Under Curve): Measures ability to distinguish between default vs non-default.\n",
        "\n",
        "Precision-Recall AUC: More important when defaults are rare.\n",
        "\n",
        "Secondary metrics:\n",
        "\n",
        "F1-score: Balances precision & recall.\n",
        "\n",
        "Confusion Matrix: For business interpretability.\n",
        "\n",
        "Avoid only using accuracy, since imbalance makes it misleading.\n",
        "\n",
        "5. Business Impact\n",
        "\n",
        "Risk Reduction: Identifying potential defaulters allows the company to take preventive actions (e.g., stricter credit checks, lower loan limits).\n",
        "\n",
        "Profit Optimization: Reduces loan losses and increases ROI by lending more confidently to reliable customers.\n",
        "\n",
        "Customer Retention: By understanding at-risk borrowers, personalized repayment options can be offered.\n",
        "\n",
        "Regulatory Compliance: A well-performing ML model ensures fair and explainable credit risk assessment."
      ],
      "metadata": {
        "id": "PkhzAWWDswC1"
      }
    }
  ]
}